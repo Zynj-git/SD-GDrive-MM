{
  "nbformat": 4,
  "nbformat_minor": 0,
  "metadata": {
    "colab": {
      "provenance": [],
      "authorship_tag": "ABX9TyOMNzniiFORpK+Yfc17ktZA",
      "include_colab_link": true
    },
    "kernelspec": {
      "name": "python3",
      "display_name": "Python 3"
    },
    "language_info": {
      "name": "python"
    },
    "gpuClass": "standard"
  },
  "cells": [
    {
      "cell_type": "markdown",
      "metadata": {
        "id": "view-in-github",
        "colab_type": "text"
      },
      "source": [
        "<a href=\"https://colab.research.google.com/github/Zynj-git/SD-GDrive-MM/blob/main/GDrive_Stable_Diffusion_Model_Manager.ipynb\" target=\"_parent\"><img src=\"https://colab.research.google.com/assets/colab-badge.svg\" alt=\"Open In Colab\"/></a>"
      ]
    },
    {
      "cell_type": "code",
      "source": [
        "# @title ## Mount Google Drive\n",
        "from google.colab import drive\n",
        "\n",
        "# Mount Google Drive\n",
        "drive.mount(\"/content/drive\")"
      ],
      "metadata": {
        "colab": {
          "base_uri": "https://localhost:8080/"
        },
        "id": "4sFVHr2ZbhMF",
        "outputId": "e4d85f8b-71bc-4806-8aec-6a6678b7b473"
      },
      "execution_count": 1,
      "outputs": [
        {
          "output_type": "stream",
          "name": "stdout",
          "text": [
            "Mounted at /content/drive\n"
          ]
        }
      ]
    },
    {
      "cell_type": "code",
      "execution_count": null,
      "metadata": {
        "id": "EjGAFb0gbfRy"
      },
      "outputs": [],
      "source": [
        "import os\n",
        "import requests\n",
        "import urllib.parse\n",
        "urlparse = urllib.parse.urlparse\n",
        "# @title ## Manage Repositories\n",
        "# @markdown ### Instructions\n",
        "# @markdown 1. Point `BASE_PATH` to Stable Diffusion's model folder.\n",
        "# @markdown 2. Select the appropriate `model_type`.\n",
        "# @markdown 3. Input a link that points to the desired file.\n",
        "\n",
        "\n",
        "# Set base path for models\n",
        "BASE_PATH = \"/content/drive/MyDrive/sd/stable-diffusion-webui/models/\" #@param {type: \"string\"}\n",
        "model_type = \"Stable-diffusion\"  # @param [\"Codeformer\", \"deepbooru\", \"ESRGAN\", \"GFPGAN\", \"hypernetworks\", \"LDSR\", \"Lora\", \"Stable-diffusion\", \"SwinIR\", \"torch_deepdanbooru\", \"VAE\", \"VAE-approx\"] {allow-input: true}\n",
        "model_type = model_type.strip()\n",
        "\n",
        "file_url = \"\"  #@param {type: \"string\"}\n",
        "\n",
        "\n",
        "def get_file_name_from_url(url):\n",
        "    link = requests.head(url, allow_redirects=True).url\n",
        "    return os.path.basename(urlparse(link).path)\n",
        "\n",
        "\n",
        "def download_model(model_type, file_url):\n",
        "    # Create directory if it doesn't exist\n",
        "    model_dir = os.path.join(BASE_PATH, model_type)\n",
        "    if not os.path.exists(model_dir):\n",
        "        os.makedirs(model_dir)\n",
        "\n",
        "    # Set file path\n",
        "    file_name = get_file_name_from_url(file_url)\n",
        "    file_path = os.path.join(model_dir, file_name)\n",
        "\n",
        "    # Check if file already exists\n",
        "    if os.path.isfile(file_path):\n",
        "        print(f\"Model {model_type} already exists at {file_path}.\")\n",
        "        return True\n",
        "\n",
        "    # Download and save model file\n",
        "    response = requests.get(file_url, allow_redirects=True)\n",
        "    with open(file_path, \"wb\") as f:\n",
        "        f.write(response.content)\n",
        "    print(f\"Model {model_type} saved to {file_path}\")\n",
        "\n",
        "    return True\n",
        "\n",
        "\n",
        "if __name__ == \"__main__\":\n",
        "    if file_url:\n",
        "      # Download model file\n",
        "      success = download_model(model_type, file_url)\n",
        "      if not success:\n",
        "          print(\"Failed to download model file.\")\n",
        "    else:\n",
        "      print(\"No file_url provided!\")\n"
      ]
    }
  ]
}